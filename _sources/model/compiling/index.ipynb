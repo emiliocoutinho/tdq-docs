{
 "cells": [
  {
   "cell_type": "markdown",
   "metadata": {
    "collapsed": true,
    "pycharm": {
     "name": "#%% md\n"
    }
   },
   "source": [
    "# Compiling your Problem\n",
    "\n",
    "Once you've defined your problem, it must be compiled such that TensorDiffEq can build the loss function described\n",
    "by the boundary conditions, initial conditions, and physics defined in the previous sections.\n",
    "\n",
    "Additionally, here is where we will define the neural network size and depth. Currently, most PINN approaches use dense fully connected\n",
    "neural networks for function approximation. Fully-connected Neural Networks have some level of theoretical backing\n",
    "that they will converge to a solution of the underlying function {cite}`pinkus1999approximation,chen1993approximations`, and this\n",
    "theoretical backing has extended into the PINN framework {cite}`shin2020convergence`. With that being said, currently the only type of network supported in\n",
    "TensorDiffEq is the fully-connected MLP network.\n",
    "\n",
    "### Layer Sizes\n",
    "\n",
    "TensorDiffEq uses the [Keras API](https://keras.io/) for neural network construction. All you need to do is define a list of layer\n",
    "sizes for your neural network. So, for a network with an `[x,t]` input, 4 layers deep, with 128 nodes, one would define\n",
    "a layer size list of `[2,128,128,1]`.\n",
    "\n",
    "For our problem we have been building in the previous sections, we can define layer sizes as such:\n",
    "\n",
    "```{code} python\n",
    "layer_sizes = [2, 128, 128, 128, 128, 1]\n",
    "```\n",
    "\n",
    "Or, if your problem is a function of `[x,y,t]`, the you could define the exact same network with a input layer with 3 nodes, i.e.\n",
    "\n",
    "```{code} python\n",
    "layer_sizes = [3, 128, 128, 128, 128, 1]\n",
    "```\n",
    "\n",
    "### Compile the Model\n",
    "\n",
    "```{bibliography} ../../references.bib\n",
    ":style: unsrt\n",
    "```"
   ]
  }
 ],
 "metadata": {
  "kernelspec": {
   "display_name": "Python 3",
   "language": "python",
   "name": "python3"
  },
  "language_info": {
   "codemirror_mode": {
    "name": "ipython",
    "version": 2
   },
   "file_extension": ".py",
   "mimetype": "text/x-python",
   "name": "python",
   "nbconvert_exporter": "python",
   "pygments_lexer": "ipython2",
   "version": "2.7.6"
  }
 },
 "nbformat": 4,
 "nbformat_minor": 0
}