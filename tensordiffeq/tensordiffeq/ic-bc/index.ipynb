{
 "cells": [
  {
   "cell_type": "markdown",
   "metadata": {
    "collapsed": true,
    "pycharm": {
     "name": "#%% md\n"
    }
   },
   "source": [
    "# Initial Conditions\n",
    "\n",
    "Paramount to any IVP are the initial conditions on which your problem is based. If your problem is temporal, i.e. evolving with time\n",
    "(as is the case with most PDEs) the IVP is required to discern the exact solution for the problem you are interested in.\n",
    "The same is true when solving a PDE via a collocation PINN solver. Here we will discuss how to implement initial condition functions\n",
    "in TensorDiffEq.\n",
    "\n",
    "\n"
   ]
  }
 ],
 "metadata": {
  "kernelspec": {
   "display_name": "Python 3",
   "language": "python",
   "name": "python3"
  },
  "language_info": {
   "codemirror_mode": {
    "name": "ipython",
    "version": 2
   },
   "file_extension": ".py",
   "mimetype": "text/x-python",
   "name": "python",
   "nbconvert_exporter": "python",
   "pygments_lexer": "ipython2",
   "version": "2.7.6"
  }
 },
 "nbformat": 4,
 "nbformat_minor": 0
}