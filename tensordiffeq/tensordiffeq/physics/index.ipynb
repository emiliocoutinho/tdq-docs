{
 "cells": [
  {
   "cell_type": "markdown",
   "metadata": {
    "collapsed": true,
    "pycharm": {
     "name": "#%% md\n"
    }
   },
   "source": [
    "# Building the Physics\n",
    "\n",
    "Physics are paramount to the PINN concept. The fundamental idea of PINNs is that there could be little to no data available to\n",
    "solve the problem at hand. The solution is to bridge the gap between a rote data-driven model and one in which the entire problem\n",
    "is completely defined. The data requirement for PINNs is drastically reduced from a black-box machine learning model, leaning instead on the\n",
    "physics of the problem at hand to bridge the gap to identifying a solution.\n",
    "\n",
    "The fantastic part about PINN solvers, such as those we are building in this section, is that there is no data requirement whatsoever to train\n",
    "the solution network. The training, in this case, is minimizing the residual between the output of the network as it goes through the PDE we define.\n",
    "Therefore, we are simply seeking to push that residual to zero. On the boundaries we do explicitly define solutions, which could be considered as\n",
    "\"data,\" however these are known quantities when solving any PDE, and are required to generate a unique solution for your problem.\n",
    "\n",
    "\n",
    "\n"
   ]
  }
 ],
 "metadata": {
  "kernelspec": {
   "display_name": "Python 3",
   "language": "python",
   "name": "python3"
  },
  "language_info": {
   "codemirror_mode": {
    "name": "ipython",
    "version": 2
   },
   "file_extension": ".py",
   "mimetype": "text/x-python",
   "name": "python",
   "nbconvert_exporter": "python",
   "pygments_lexer": "ipython2",
   "version": "2.7.6"
  }
 },
 "nbformat": 4,
 "nbformat_minor": 0
}