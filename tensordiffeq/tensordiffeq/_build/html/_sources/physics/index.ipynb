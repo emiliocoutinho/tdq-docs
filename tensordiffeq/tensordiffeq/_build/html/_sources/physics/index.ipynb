{
 "cells": [
  {
   "cell_type": "markdown",
   "metadata": {
    "collapsed": true,
    "pycharm": {
     "name": "#%% md\n"
    }
   },
   "source": [
    "# Building the Physics\n",
    "\n",
    "Physics are paramount to the PINN concept. The fundamental idea of PINNs is that there could be little to no data available to\n",
    "solve the problem at hand. The solution is to build a model capable of operating in the middle ground - somewhere in between a rote data-driven model and one in which the entire problem\n",
    "is completely defined. The data requirement for PINNs is drastically reduced from a black-box machine learning model, leaning instead on the\n",
    "physics of the problem at hand to bridge the gap to identifying a solution.\n",
    "\n",
    "The fantastic part about PINN solvers, such as those we are building in this section, is that there is no data requirement whatsoever to train\n",
    "the solution network. The training, in this case, is minimizing the residual between the output of the network as it goes through the PDE we define.\n",
    "We are simply seeking to push that residual to zero. On the boundaries we do explicitly define solutions, which could be considered as\n",
    "\"data,\" however these are known quantities when solving any PDE, and are required to generate a unique solution for your problem.\n",
    "\n",
    "In order to add the physics to a problem in TensorDiffEq, a function describing the relationships between all the partial derivatives\n",
    "must be generated. In order to get the partials, we take advantage of the `tf.gradients` function, which generates the gradients of a\n",
    "function with respect to an input. This provides an intuitive interface to build a strong-form PDE to represent the\n",
    "physics in your model.\n",
    "\n",
    "### Building Physics in TensorDiffEq\n",
    "\n",
    "A simple example from [Raissi et. al](https://maziarraissi.github.io/PINNs/) is the viscous Burger's equation, useful for modeling shock waves in\n",
    "a medium.\n",
    "\n",
    "To implement the Burger's equation in TensorDiffEq, we define a `f_model` that contains the strong form of the PDE as follows:\n",
    "\n",
    "```{code-block} python\n",
    "def f_model(u_model, x, t):\n",
    "    u = u_model(tf.concat([x, t], 1)) # this line is required regardless of the model\n",
    "    u_x = tf.gradients(u, x)\n",
    "    u_xx = tf.gradients(u_x, x)\n",
    "    u_t = tf.gradients(u, t)\n",
    "    f_u = u_t + u * u_x - (0.05 / tf.constant(math.pi)) * u_xx\n",
    "    return f_u\n",
    "```\n",
    "\n",
    "the `f_model` is then fed into the solver as-is, with no special processing required.\n",
    "\n",
    "Defining a higher-dimensional model in TensorDiffEq is just as straightforward, for instance a 2D heat diffusion\n",
    "equation could be described in the following way:\n",
    "\n",
    "```{code-block} python\n",
    "def f_model(u_model, x, y, t):\n",
    "    u = u_model(tf.concat([x, y, t], 1)) # this line must be modified to include the new dimension `y`\n",
    "    u_x = tf.gradients(u, x)\n",
    "    u_xx = tf.gradients(u_x, x)\n",
    "    u_y = tf.gradients(u, y)\n",
    "    u_yy = tf.gradients(u_y, y)\n",
    "    u_t = tf.gradients(u, t)\n",
    "\n",
    "    f_u = u_t - c*(u_xx + u_yy)\n",
    "\n",
    "    return f_u\n",
    "```\n",
    "\n",
    "\n",
    "Once you define the physics of the model, you are ready to compile the model and begin training to generate a solution\n",
    "approximation network for your PDE.\n",
    "\n"
   ]
  }
 ],
 "metadata": {
  "kernelspec": {
   "display_name": "Python 3",
   "language": "python",
   "name": "python3"
  },
  "language_info": {
   "codemirror_mode": {
    "name": "ipython",
    "version": 2
   },
   "file_extension": ".py",
   "mimetype": "text/x-python",
   "name": "python",
   "nbconvert_exporter": "python",
   "pygments_lexer": "ipython2",
   "version": "2.7.6"
  }
 },
 "nbformat": 4,
 "nbformat_minor": 0
}