{
 "cells": [
  {
   "cell_type": "markdown",
   "metadata": {
    "collapsed": true,
    "pycharm": {
     "name": "#%% md\n"
    }
   },
   "source": [
    "# Compiling your Problem\n",
    "\n",
    "Once you've defined your problem, it must be compiled such that TensorDiffEq can build the loss function described\n",
    "by the boundary conditions, initial conditions, and physics defined in the previous sections.\n",
    "\n",
    "Additionally, here is where we will define the neural network size and depth. Currently, most PINN approaches use dense fully connected\n",
    "neural networks for function approximation. Fully-connected Neural Networks have some level of theoretical backing\n",
    "that they will converge to a solution of the underlying function {cite}`pinkus1999approximation, chen1993approximations`, and this\n",
    "theoretical backing has extended into the PINN framework {cite}`shin2020convergence`. With that being said, currently the only type of network supported in\n",
    "TensorDiffEq is the fully-connected MLP network.\n",
    "\n",
    "\n",
    "```{bibliography}\n",
    "```"
   ]
  }
 ],
 "metadata": {
  "kernelspec": {
   "display_name": "Python 3",
   "language": "python",
   "name": "python3"
  },
  "language_info": {
   "codemirror_mode": {
    "name": "ipython",
    "version": 2
   },
   "file_extension": ".py",
   "mimetype": "text/x-python",
   "name": "python",
   "nbconvert_exporter": "python",
   "pygments_lexer": "ipython2",
   "version": "2.7.6"
  }
 },
 "nbformat": 4,
 "nbformat_minor": 0
}