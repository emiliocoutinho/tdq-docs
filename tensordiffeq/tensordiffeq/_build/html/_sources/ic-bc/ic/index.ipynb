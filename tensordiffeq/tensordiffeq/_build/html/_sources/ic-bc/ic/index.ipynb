{
 "cells": [
  {
   "cell_type": "markdown",
   "metadata": {
    "collapsed": true,
    "pycharm": {
     "name": "#%% md\n"
    }
   },
   "source": [
    "# Initial Conditions\n",
    "\n",
    "Paramount to any IVP are the initial conditions on which your problem is based. If your problem is temporal, i.e. evolving with time\n",
    "(as is the case with most PDEs) the initial values are required to discern the exact solution for the problem you are interested in.\n",
    "The same is true when solving a PDE via a collocation PINN solver. Here we will discuss how to implement initial condition functions\n",
    "in TensorDiffEq.\n",
    "\n",
    "##### Defining a function of Domain variables\n",
    "The primary method of setting an initial condition in TensorDiffEq is to simply define a method that generates the physical function\n",
    "describing the initial values of your problem. This is a powerful function of TensorDiffEq as it allows for any sort of function, continuous,\n",
    "discrete, linear, nonlinear, piecewise, etc. This allows for modeling discontinuinities at the initial boundary, giving the user a\n",
    "wide range of complex possibilities.\n",
    "\n",
    "In order to build an initial boundary in TensorDiffEq, a python method with inputs corresponding to the variables of the problem `Domain`\n",
    "can be defined, i.e.\n",
    "\n",
    "```{code-block} python\n",
    "def func_ic(x):\n",
    "    return -np.sin(math.pi * x )\n",
    "```\n",
    "This defines an initial condition that is only dependent on `x`, of the form $u(x,0) = -sin(\\pi x)$. However, as mentioned, there is no requirement that\n",
    "the initial condition is a linear or even a continuously differentiable function. One could define a piecewise function in the form below:\n",
    "\n",
    "```{code-block} python\n",
    "def func_ic(x):\n",
    "    if x >= 0.5:\n",
    "        out = 1.0\n",
    "     else:\n",
    "        out = 0.0\n",
    "    return out\n",
    "```\n",
    "\n",
    "The above would be valid input to TensorDiffEqs solvers, and would still allow for self-adaptive solving at the initial boundary.\n"
   ]
  }
 ],
 "metadata": {
  "kernelspec": {
   "display_name": "Python 3",
   "language": "python",
   "name": "python3"
  },
  "language_info": {
   "codemirror_mode": {
    "name": "ipython",
    "version": 2
   },
   "file_extension": ".py",
   "mimetype": "text/x-python",
   "name": "python",
   "nbconvert_exporter": "python",
   "pygments_lexer": "ipython2",
   "version": "2.7.6"
  }
 },
 "nbformat": 4,
 "nbformat_minor": 0
}