{
 "cells": [
  {
   "cell_type": "markdown",
   "metadata": {
    "collapsed": true,
    "pycharm": {
     "name": "#%% md\n"
    }
   },
   "source": [
    "# Boundary Conditions\n",
    "\n",
    "Currently, TensorDiffEq contains built-in support for Dirichlet and Periodic BCs, with expanded support coming in the near future\n",
    "\n",
    "The boundary conditions described generate additional terms in the loss function to allow for enforcement of those boundaries in the final\n",
    "solution. Therefore, one simple needs to describe all the boundaries in your problem, put them into a `list` so that TensorDiffEqs solvers can iterate\n",
    "through them, and allow the solution to train.\n",
    "\n",
    "Boundary conditions have similar structure, and dont return anything once initialized. Once fed into the solver, however,\n",
    "the boundary conditions described by the user are enforced in the solution.\n",
    "\n",
    "### Dirichlet BCs\n",
    "\n",
    "Dirichlet BCs are initialized in the following fashion:\n",
    "\n",
    "```{code-block} python\n",
    "dirichletBC(domain, val, var, target)\n",
    "```\n",
    "\n",
    "Args:\n",
    "- `domain` - a `domain` object containing the variables in the domain\n",
    "- `val` - a `float` containing the value to be enforced at the boundary\n",
    "- `var` - a `str` indicating which variable should be enforced by the value in `val`\n",
    "- `target` - a `str` indicating whether the value listed in `val` will be targeting the `upper` or `lower` boundary on `var`\n",
    "\n",
    "to create a simple dirichletBC, one could define upper and lower boundary values on the `x` value from the [IC definition section](../ic/index.ipynb)\n",
    "\n",
    "```{code-block} python\n",
    "upper_x = dirichlectBC(Domain, val=0.0, var='x', target=\"upper\")\n",
    "lower_x = dirichlectBC(Domain, val=0.0, var='x', target=\"lower\")\n",
    "```\n",
    "\n",
    "This will force the upper and lower boundary value of 0.0 on the upper and lower boundaries of `x` for a 1D spatio-temporal problem.\n",
    "\n",
    "```{note}\n",
    "Currently TensorDiffEq doesn't support functions as Dirichlet BCs. In the near future this will be a feature and will contain a similar\n",
    "interface as the [IC function definition](../ic/index.ipynb). Bear with us as we add features to help you solve your problems!\n",
    "```\n"
   ]
  }
 ],
 "metadata": {
  "kernelspec": {
   "display_name": "Python 3",
   "language": "python",
   "name": "python3"
  },
  "language_info": {
   "codemirror_mode": {
    "name": "ipython",
    "version": 2
   },
   "file_extension": ".py",
   "mimetype": "text/x-python",
   "name": "python",
   "nbconvert_exporter": "python",
   "pygments_lexer": "ipython2",
   "version": "2.7.6"
  }
 },
 "nbformat": 4,
 "nbformat_minor": 0
}