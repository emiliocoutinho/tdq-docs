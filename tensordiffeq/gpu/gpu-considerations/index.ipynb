{
 "cells": [
  {
   "cell_type": "markdown",
   "metadata": {
    "collapsed": true,
    "pycharm": {
     "name": "#%% md\n"
    }
   },
   "source": [
    "# GPU Considerations\n",
    "\n",
    "graph-mode L-BFGS is typically faster on a single-GPU, given sufficient model size. On a CPU, emperically,\n",
    "it has been demonstrated that eager-mode L-BFGS is actually faster than graph-mode. We are insterested in\n",
    "the community feedback! If you notice something interesting here, open a PR on these docs and let us know!\n"
   ]
  }
 ],
 "metadata": {
  "kernelspec": {
   "display_name": "Python 3",
   "language": "python",
   "name": "python3"
  },
  "language_info": {
   "codemirror_mode": {
    "name": "ipython",
    "version": 2
   },
   "file_extension": ".py",
   "mimetype": "text/x-python",
   "name": "python",
   "nbconvert_exporter": "python",
   "pygments_lexer": "ipython2",
   "version": "2.7.6"
  }
 },
 "nbformat": 4,
 "nbformat_minor": 0
}